{
 "cells": [
  {
   "cell_type": "markdown",
   "id": "bd1c3cd3",
   "metadata": {},
   "source": [
    "# Welcome To The Practice Notebook \n",
    "---"
   ]
  },
  {
   "cell_type": "markdown",
   "id": "26b59aa6",
   "metadata": {},
   "source": [
    "Importing the pandas library"
   ]
  },
  {
   "cell_type": "code",
   "execution_count": 2,
   "id": "9961c391",
   "metadata": {},
   "outputs": [],
   "source": [
    "import pandas as pd "
   ]
  },
  {
   "cell_type": "markdown",
   "id": "2548a6df",
   "metadata": {},
   "source": [
    "Import the json Imdb Dataset"
   ]
  },
  {
   "cell_type": "code",
   "execution_count": 9,
   "id": "7ee32f66",
   "metadata": {},
   "outputs": [
    {
     "data": {
      "text/html": [
       "<div>\n",
       "<style scoped>\n",
       "    .dataframe tbody tr th:only-of-type {\n",
       "        vertical-align: middle;\n",
       "    }\n",
       "\n",
       "    .dataframe tbody tr th {\n",
       "        vertical-align: top;\n",
       "    }\n",
       "\n",
       "    .dataframe thead th {\n",
       "        text-align: right;\n",
       "    }\n",
       "</style>\n",
       "<table border=\"1\" class=\"dataframe\">\n",
       "  <thead>\n",
       "    <tr style=\"text-align: right;\">\n",
       "      <th></th>\n",
       "      <th>color</th>\n",
       "      <th>director_name</th>\n",
       "      <th>duration</th>\n",
       "      <th>movie_income</th>\n",
       "      <th>star_name</th>\n",
       "      <th>movie_title</th>\n",
       "      <th>language</th>\n",
       "      <th>country</th>\n",
       "      <th>movie_budget</th>\n",
       "      <th>title_year</th>\n",
       "      <th>imdb_score</th>\n",
       "    </tr>\n",
       "  </thead>\n",
       "  <tbody>\n",
       "    <tr>\n",
       "      <th>0</th>\n",
       "      <td>Color</td>\n",
       "      <td>James Cameron</td>\n",
       "      <td>178.0</td>\n",
       "      <td>760505847.0</td>\n",
       "      <td>CCH Pounder</td>\n",
       "      <td>Avatar</td>\n",
       "      <td>English</td>\n",
       "      <td>USA</td>\n",
       "      <td>237000000.0</td>\n",
       "      <td>2009</td>\n",
       "      <td>7.9</td>\n",
       "    </tr>\n",
       "    <tr>\n",
       "      <th>1</th>\n",
       "      <td>Color</td>\n",
       "      <td>Gore Verbinski</td>\n",
       "      <td>169.0</td>\n",
       "      <td>309404152.0</td>\n",
       "      <td>Johnny Depp</td>\n",
       "      <td>Pirates of the Caribbean: At World's End</td>\n",
       "      <td>English</td>\n",
       "      <td>USA</td>\n",
       "      <td>300000000.0</td>\n",
       "      <td>2007</td>\n",
       "      <td>7.1</td>\n",
       "    </tr>\n",
       "    <tr>\n",
       "      <th>2</th>\n",
       "      <td>Color</td>\n",
       "      <td>Sam Mendes</td>\n",
       "      <td>148.0</td>\n",
       "      <td>200074175.0</td>\n",
       "      <td>Christoph Waltz</td>\n",
       "      <td>Spectre</td>\n",
       "      <td>English</td>\n",
       "      <td>UK</td>\n",
       "      <td>245000000.0</td>\n",
       "      <td>2015</td>\n",
       "      <td>6.8</td>\n",
       "    </tr>\n",
       "    <tr>\n",
       "      <th>3</th>\n",
       "      <td>Color</td>\n",
       "      <td>Christopher Nolan</td>\n",
       "      <td>164.0</td>\n",
       "      <td>448130642.0</td>\n",
       "      <td>Tom Hardy</td>\n",
       "      <td>The Dark Knight Rises</td>\n",
       "      <td>English</td>\n",
       "      <td>USA</td>\n",
       "      <td>250000000.0</td>\n",
       "      <td>2012</td>\n",
       "      <td>8.5</td>\n",
       "    </tr>\n",
       "    <tr>\n",
       "      <th>4</th>\n",
       "      <td>NaN</td>\n",
       "      <td>Doug Walker</td>\n",
       "      <td>NaN</td>\n",
       "      <td>NaN</td>\n",
       "      <td>Doug Walker</td>\n",
       "      <td>Star Wars: Episode VII - The Force Awakens</td>\n",
       "      <td>NaN</td>\n",
       "      <td>NaN</td>\n",
       "      <td>NaN</td>\n",
       "      <td>&lt;NA&gt;</td>\n",
       "      <td>7.1</td>\n",
       "    </tr>\n",
       "    <tr>\n",
       "      <th>...</th>\n",
       "      <td>...</td>\n",
       "      <td>...</td>\n",
       "      <td>...</td>\n",
       "      <td>...</td>\n",
       "      <td>...</td>\n",
       "      <td>...</td>\n",
       "      <td>...</td>\n",
       "      <td>...</td>\n",
       "      <td>...</td>\n",
       "      <td>...</td>\n",
       "      <td>...</td>\n",
       "    </tr>\n",
       "    <tr>\n",
       "      <th>5038</th>\n",
       "      <td>Color</td>\n",
       "      <td>Scott Smith</td>\n",
       "      <td>87.0</td>\n",
       "      <td>NaN</td>\n",
       "      <td>Eric Mabius</td>\n",
       "      <td>Signed Sealed Delivered</td>\n",
       "      <td>English</td>\n",
       "      <td>Canada</td>\n",
       "      <td>NaN</td>\n",
       "      <td>2013</td>\n",
       "      <td>7.7</td>\n",
       "    </tr>\n",
       "    <tr>\n",
       "      <th>5039</th>\n",
       "      <td>Color</td>\n",
       "      <td>NaN</td>\n",
       "      <td>43.0</td>\n",
       "      <td>NaN</td>\n",
       "      <td>Natalie Zea</td>\n",
       "      <td>The Following</td>\n",
       "      <td>English</td>\n",
       "      <td>USA</td>\n",
       "      <td>NaN</td>\n",
       "      <td>&lt;NA&gt;</td>\n",
       "      <td>7.5</td>\n",
       "    </tr>\n",
       "    <tr>\n",
       "      <th>5040</th>\n",
       "      <td>Color</td>\n",
       "      <td>Benjamin Roberds</td>\n",
       "      <td>76.0</td>\n",
       "      <td>NaN</td>\n",
       "      <td>Eva Boehnke</td>\n",
       "      <td>A Plague So Pleasant</td>\n",
       "      <td>English</td>\n",
       "      <td>USA</td>\n",
       "      <td>1400.0</td>\n",
       "      <td>2013</td>\n",
       "      <td>6.3</td>\n",
       "    </tr>\n",
       "    <tr>\n",
       "      <th>5041</th>\n",
       "      <td>Color</td>\n",
       "      <td>Daniel Hsia</td>\n",
       "      <td>100.0</td>\n",
       "      <td>10443.0</td>\n",
       "      <td>Alan Ruck</td>\n",
       "      <td>Shanghai Calling</td>\n",
       "      <td>English</td>\n",
       "      <td>USA</td>\n",
       "      <td>NaN</td>\n",
       "      <td>2012</td>\n",
       "      <td>6.3</td>\n",
       "    </tr>\n",
       "    <tr>\n",
       "      <th>5042</th>\n",
       "      <td>Color</td>\n",
       "      <td>Jon Gunn</td>\n",
       "      <td>90.0</td>\n",
       "      <td>85222.0</td>\n",
       "      <td>John August</td>\n",
       "      <td>My Date with Drew</td>\n",
       "      <td>English</td>\n",
       "      <td>USA</td>\n",
       "      <td>1100.0</td>\n",
       "      <td>2004</td>\n",
       "      <td>6.6</td>\n",
       "    </tr>\n",
       "  </tbody>\n",
       "</table>\n",
       "<p>5043 rows × 11 columns</p>\n",
       "</div>"
      ],
      "text/plain": [
       "      color      director_name  duration  movie_income        star_name  \\\n",
       "0     Color      James Cameron     178.0   760505847.0      CCH Pounder   \n",
       "1     Color     Gore Verbinski     169.0   309404152.0      Johnny Depp   \n",
       "2     Color         Sam Mendes     148.0   200074175.0  Christoph Waltz   \n",
       "3     Color  Christopher Nolan     164.0   448130642.0        Tom Hardy   \n",
       "4       NaN        Doug Walker       NaN           NaN      Doug Walker   \n",
       "...     ...                ...       ...           ...              ...   \n",
       "5038  Color        Scott Smith      87.0           NaN      Eric Mabius   \n",
       "5039  Color                NaN      43.0           NaN      Natalie Zea   \n",
       "5040  Color   Benjamin Roberds      76.0           NaN      Eva Boehnke   \n",
       "5041  Color        Daniel Hsia     100.0       10443.0        Alan Ruck   \n",
       "5042  Color           Jon Gunn      90.0       85222.0      John August   \n",
       "\n",
       "                                     movie_title language country  \\\n",
       "0                                         Avatar  English     USA   \n",
       "1       Pirates of the Caribbean: At World's End  English     USA   \n",
       "2                                        Spectre  English      UK   \n",
       "3                          The Dark Knight Rises  English     USA   \n",
       "4     Star Wars: Episode VII - The Force Awakens      NaN     NaN   \n",
       "...                                          ...      ...     ...   \n",
       "5038                     Signed Sealed Delivered  English  Canada   \n",
       "5039                               The Following  English     USA   \n",
       "5040                        A Plague So Pleasant  English     USA   \n",
       "5041                            Shanghai Calling  English     USA   \n",
       "5042                           My Date with Drew  English     USA   \n",
       "\n",
       "      movie_budget  title_year  imdb_score  \n",
       "0      237000000.0        2009         7.9  \n",
       "1      300000000.0        2007         7.1  \n",
       "2      245000000.0        2015         6.8  \n",
       "3      250000000.0        2012         8.5  \n",
       "4              NaN        <NA>         7.1  \n",
       "...            ...         ...         ...  \n",
       "5038           NaN        2013         7.7  \n",
       "5039           NaN        <NA>         7.5  \n",
       "5040        1400.0        2013         6.3  \n",
       "5041           NaN        2012         6.3  \n",
       "5042        1100.0        2004         6.6  \n",
       "\n",
       "[5043 rows x 11 columns]"
      ]
     },
     "execution_count": 9,
     "metadata": {},
     "output_type": "execute_result"
    }
   ],
   "source": [
    "data = pd.read_json(r\"C:\\Users\\ASUS\\Music\\Coursera\\movies_dataset.json\")\n",
    "data.drop(columns= ['movie_imdb_link', 'genres','num_critic_for_reviews'], axis= 1, inplace=True)\n",
    "data.title_year= data.title_year.astype('Int64')\n",
    "data.rename(columns={'gross':'movie_income','budget':'movie_budget'}, inplace= True)\n",
    "data\n"
   ]
  },
  {
   "cell_type": "markdown",
   "id": "9b72abfd",
   "metadata": {},
   "source": [
    "Answer to the following Analytical questions: \n",
    "\n",
    "Question 1: Use Histograms to compare the disribution of movie `imdb_score` column related to movies produced in `France` and `Canada`. \n",
    "\n",
    "While creating the histgoram:\n",
    "- Set the number of bins to 20 \n",
    "- Set the xAxis Label \n",
    "- Set the yAxis Label\n",
    "- Remove the grid lines\n"
   ]
  },
  {
   "cell_type": "code",
   "execution_count": null,
   "id": "ad4c6911",
   "metadata": {},
   "outputs": [
    {
     "data": {
      "text/plain": [
       "Text(0, 0.5, 'Count')"
      ]
     },
     "execution_count": 16,
     "metadata": {},
     "output_type": "execute_result"
    },
    {
     "data": {
      "image/png": "[encoded data removed]",
      "text/plain": [
       "<Figure size 640x480 with 1 Axes>"
      ]
     },
     "metadata": {},
     "output_type": "display_data"
    }
   ],
   "source": [
    "canada_sc = data[data.country =='Canada'].imdb_score.hist(bins=20 ,grid=False, color ='red', edgecolor ='white')\n",
    "canada_sc.set_title('Canadian Movie IMDb Scores Histogram')\n",
    "canada_sc.set_xlabel('Scores')\n",
    "canada_sc.set_ylabel('Count')"
   ]
  },
  {
   "cell_type": "code",
   "execution_count": 23,
   "id": "3c385215",
   "metadata": {},
   "outputs": [
    {
     "data": {
      "text/plain": [
       "Text(0, 0.5, 'Count')"
      ]
     },
     "execution_count": 23,
     "metadata": {},
     "output_type": "execute_result"
    },
    {
     "data": {
      "image/png": "[encoded data removed]",
      "text/plain": [
       "<Figure size 640x480 with 1 Axes>"
      ]
     },
     "metadata": {},
     "output_type": "display_data"
    }
   ],
   "source": [
    "france_sc = data[data.country == 'France'].imdb_score.hist(bins=20, grid=False, color ='red',edgecolor ='blue')\n",
    "france_sc.set_title('French Movie IMDb Scores Histogram')\n",
    "france_sc.set_xlabel('Scores')\n",
    "france_sc.set_ylabel('Count')"
   ]
  },
  {
   "cell_type": "markdown",
   "id": "c7a770a6",
   "metadata": {},
   "source": [
    "Question 2: Create a histogram to check the distribution of `movie_budget` spent to produce Black&White movies.\n",
    "\n",
    "While creating the histgoram:\n",
    "- Set the number of bins to 10 \n",
    "- Set the xAxis Label \n",
    "- Set the yAxis Label\n",
    "- Remove the grid lines\n"
   ]
  },
  {
   "cell_type": "code",
   "execution_count": 28,
   "id": "f8f04117",
   "metadata": {},
   "outputs": [
    {
     "data": {
      "text/plain": [
       "Text(0, 0.5, 'Count')"
      ]
     },
     "execution_count": 28,
     "metadata": {},
     "output_type": "execute_result"
    },
    {
     "data": {
      "image/png": "[encoded data removed]",
      "text/plain": [
       "<Figure size 640x480 with 1 Axes>"
      ]
     },
     "metadata": {},
     "output_type": "display_data"
    }
   ],
   "source": [
    "#data.color.unique()\n",
    "bw_sc = data[data.color == 'Black and White'].movie_budget.hist(bins =10, grid=False, color ='black', edgecolor = 'white')\n",
    "bw_sc.set_title('Black & White Movie Budget Histogram')\n",
    "bw_sc.set_xlabel('Movie Budget Amount')\n",
    "bw_sc.set_ylabel('Count')"
   ]
  }
 ],
 "metadata": {
  "kernelspec": {
   "display_name": "Python 3",
   "language": "python",
   "name": "python3"
  },
  "language_info": {
   "codemirror_mode": {
    "name": "ipython",
    "version": 3
   },
   "file_extension": ".py",
   "mimetype": "text/x-python",
   "name": "python",
   "nbconvert_exporter": "python",
   "pygments_lexer": "ipython3",
   "version": "3.12.3"
  }
 },
 "nbformat": 4,
 "nbformat_minor": 5
}
